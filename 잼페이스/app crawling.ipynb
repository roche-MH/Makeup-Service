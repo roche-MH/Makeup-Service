{
 "cells": [
  {
   "cell_type": "code",
   "execution_count": 1,
   "metadata": {},
   "outputs": [],
   "source": [
    "from selenium import webdriver\n",
    "from bs4 import BeautifulSoup\n",
    "import time,os\n",
    "from datetime import datetime\n",
    "import pandas as pd"
   ]
  },
  {
   "cell_type": "code",
   "execution_count": 2,
   "metadata": {},
   "outputs": [
    {
     "name": "stdout",
     "output_type": "stream",
     "text": [
      "Cannot find load more button...\n",
      "Cannot find load more button...\n",
      "Cannot find load more button...\n",
      "There are 200 reviews avaliable!\n",
      "Writing the data...\n",
      "Done!\n"
     ]
    }
   ],
   "source": [
    "\n",
    "url = 'https://play.google.com/store/apps/details?id=com.zamface&showAllReviews=true'\n",
    "scroll_cnt = 3\n",
    "\n",
    "driver = webdriver.Chrome('./chromedriver')\n",
    "driver.get(url)\n",
    "\n",
    "os.makedirs('result', exist_ok=True)\n",
    "\n",
    "for i in range(scroll_cnt):\n",
    "  # scroll to bottom\n",
    "    driver.execute_script('window.scrollTo(0, document.body.scrollHeight);')\n",
    "    time.sleep(3)\n",
    "\n",
    "  # click 'Load more' button, if exists\n",
    "    try:\n",
    "        load_more = driver.find_element_by_xpath('//*[contains(@class,\"U26fgb O0WRkf oG5Srb C0oVfc n9lfJ\")]').click()\n",
    "    except:\n",
    "        print('Cannot find load more button...')\n",
    "\n",
    "# get review containers\n",
    "reviews = driver.find_elements_by_xpath('//*[@jsname=\"fk8dgd\"]//div[@class=\"d15Mdf bAhLNe\"]')\n",
    "\n",
    "print('There are %d reviews avaliable!' % len(reviews))\n",
    "print('Writing the data...')\n",
    "\n",
    "# create empty dataframe to store data\n",
    "df = pd.DataFrame(columns=['name', 'ratings', 'date', 'helpful', 'comment', 'developer_comment'])\n",
    "\n",
    "# get review data\n",
    "for review in reviews:\n",
    "  # parse string to html using bs4\n",
    "    soup = BeautifulSoup(review.get_attribute('innerHTML'), 'html.parser')\n",
    "\n",
    "  # reviewer\n",
    "    name = soup.find(class_='X43Kjb').text\n",
    "\n",
    "  # rating\n",
    "    ratings = int(soup.find('div', role='img').get('aria-label').replace('별표 5개 만점에', '').replace('개를 받았습니다.', '').strip())\n",
    "\n",
    "  # review date\n",
    "    date = soup.find(class_='p2TkOb').text\n",
    "    date = datetime.strptime(date, '%Y년 %m월 %d일')\n",
    "    date = date.strftime('%Y-%m-%d')\n",
    "\n",
    "  # helpful\n",
    "    helpful = soup.find(class_='jUL89d y92BAb').text\n",
    "    if not helpful:\n",
    "        helpful = 0\n",
    "  \n",
    "  # review text\n",
    "    comment = soup.find('span', jsname='fbQN7e').text\n",
    "    if not comment:\n",
    "        comment = soup.find('span', jsname='bN97Pc').text\n",
    "  \n",
    "  # developer comment\n",
    "    developer_comment = None\n",
    "    dc_div = soup.find('div', class_='LVQB0b')\n",
    "    if dc_div:\n",
    "        developer_comment = dc_div.text.replace('\\n', ' ')\n",
    "  \n",
    "  # append to dataframe\n",
    "    df = df.append({\n",
    "    'name': name,\n",
    "    'ratings': ratings,\n",
    "    'date': date,\n",
    "    'helpful': helpful,\n",
    "    'comment': comment,\n",
    "    'developer_comment': developer_comment\n",
    "  }, ignore_index=True)\n",
    "\n",
    "# finally save the dataframe into csv file\n",
    "filename = datetime.now().strftime('result/%Y-%m-%d_%H-%M-%S.csv')\n",
    "df.to_csv(filename, encoding='utf-8-sig', index=False)\n",
    "driver.stop_client()\n",
    "driver.close()\n",
    "\n",
    "print('Done!')"
   ]
  },
  {
   "cell_type": "code",
   "execution_count": 3,
   "metadata": {},
   "outputs": [],
   "source": [
    "df = pd.read_csv('result/잼페이스.csv')\n",
    "#url = 'https://play.google.com/store/apps/details?id=com.miso&hl=ko&showAllReviews=true' (스노우)"
   ]
  }
 ],
 "metadata": {
  "kernelspec": {
   "display_name": "Python 3",
   "language": "python",
   "name": "python3"
  },
  "language_info": {
   "codemirror_mode": {
    "name": "ipython",
    "version": 3
   },
   "file_extension": ".py",
   "mimetype": "text/x-python",
   "name": "python",
   "nbconvert_exporter": "python",
   "pygments_lexer": "ipython3",
   "version": "3.7.6"
  }
 },
 "nbformat": 4,
 "nbformat_minor": 4
}
